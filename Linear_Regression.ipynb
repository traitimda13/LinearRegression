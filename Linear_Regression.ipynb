{
  "nbformat": 4,
  "nbformat_minor": 0,
  "metadata": {
    "colab": {
      "name": "Linear_Regression.ipynb",
      "provenance": [],
      "collapsed_sections": []
    },
    "kernelspec": {
      "name": "python3",
      "display_name": "Python 3"
    },
    "language_info": {
      "name": "python"
    }
  },
  "cells": [
    {
      "cell_type": "markdown",
      "metadata": {
        "id": "7NO05SAEd8wt"
      },
      "source": [
        "#Linear regression with gradient descent"
      ]
    },
    {
      "cell_type": "code",
      "metadata": {
        "colab": {
          "base_uri": "https://localhost:8080/"
        },
        "id": "7ZQR3dCCdPlS",
        "outputId": "29a76ce0-8e5a-4bfd-b2bf-ec8bce313c7b"
      },
      "source": [
        "from google.colab import drive\n",
        "drive.mount(\"/content/drive\")"
      ],
      "execution_count": null,
      "outputs": [
        {
          "output_type": "stream",
          "name": "stdout",
          "text": [
            "Mounted at /content/drive\n"
          ]
        }
      ]
    },
    {
      "cell_type": "code",
      "metadata": {
        "id": "WmBQBaPSeWS4"
      },
      "source": [
        "import pandas as pd\n",
        "import numpy as np\n",
        "import matplotlib.pyplot as plt\n"
      ],
      "execution_count": null,
      "outputs": []
    },
    {
      "cell_type": "code",
      "metadata": {
        "id": "q1SW0G-5ehLB",
        "colab": {
          "base_uri": "https://localhost:8080/"
        },
        "outputId": "c80ab727-2479-4581-bd25-e898fe01216e"
      },
      "source": [
        "raw = pd.read_csv(\"/content/drive/My Drive/Data/Linear_regression_1.csv\")\n",
        "X = np.copy(raw)\n",
        "X[:,1]=X[:,0]\n",
        "X[:,0]= 1\n",
        "Y = raw.values[:,1]"
      ],
      "execution_count": null,
      "outputs": [
        {
          "output_type": "execute_result",
          "data": {
            "text/plain": [
              "array([0.24906181, 0.79709934])"
            ]
          },
          "metadata": {},
          "execution_count": 136
        }
      ]
    },
    {
      "cell_type": "code",
      "metadata": {
        "id": "M2rTR382S96Z"
      },
      "source": [
        "def predict(X,Theta):\n",
        "  return X@Theta\n",
        "def cost(X,Y,Theta):\n",
        "  m = np.size(Y)\n",
        "  J = (pred(X,Theta)-Y)**2\n",
        "  return (1/(2*m))*np.sum(J)\n",
        "def GradientDescent(X,Y,alpha = 0.02, iter = 5000):\n",
        "  Theta = np.random.rand(np.size(X,1))\n",
        "  m = np.size(Y)\n",
        "  p_cost = cost(X,Y,Theta)\n",
        "  for i in range(0,iter):\n",
        "    err = predict(X,Theta) - Y\n",
        "    Theta = Theta - (alpha / m) *(X.T@err)\n",
        "    n_cost = cost(X,Y,Theta)\n",
        "    if np.round(p_cost,15) == np.round(n_cost,15):\n",
        "      break\n",
        "  return Theta"
      ],
      "execution_count": null,
      "outputs": []
    },
    {
      "cell_type": "code",
      "metadata": {
        "colab": {
          "base_uri": "https://localhost:8080/"
        },
        "id": "ZA9FvV1FCye3",
        "outputId": "ccb4b044-348d-4309-becb-1a3d1fe48741"
      },
      "source": [
        "w = GradientDescent(X,Y)\n",
        "#[-4.21150178  1.21354703\n",
        "inp = \"1,\"+input(\"Enter number:\")\n",
        "price = predict(np.fromstring(inp,sep=\",\"),w)\n",
        "print(price)"
      ],
      "execution_count": null,
      "outputs": [
        {
          "output_type": "stream",
          "name": "stdout",
          "text": [
            "Enter number:10\n",
            "7.92396853354426\n"
          ]
        }
      ]
    },
    {
      "cell_type": "code",
      "metadata": {
        "colab": {
          "base_uri": "https://localhost:8080/",
          "height": 266
        },
        "id": "TjInZ688BgK-",
        "outputId": "e697451a-adc7-41ae-9655-1febb043a37a"
      },
      "source": [
        "plt.figure(1)\n",
        "plt.plot(X[:,1],Y,'bo')\n",
        "plt.plot(X[:,1],h(X,w))\n",
        "plt.show()"
      ],
      "execution_count": null,
      "outputs": [
        {
          "output_type": "display_data",
          "data": {
            "image/png": "[encoded data removed]",
            "text/plain": [
              "<Figure size 432x288 with 1 Axes>"
            ]
          },
          "metadata": {
            "needs_background": "light"
          }
        }
      ]
    }
  ]
}